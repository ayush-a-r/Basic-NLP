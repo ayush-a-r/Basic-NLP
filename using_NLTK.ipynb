{
  "nbformat": 4,
  "nbformat_minor": 0,
  "metadata": {
    "colab": {
      "provenance": [],
      "authorship_tag": "ABX9TyO75vofJxUyTUZoZTVEfVhp",
      "include_colab_link": true
    },
    "kernelspec": {
      "name": "python3",
      "display_name": "Python 3"
    },
    "language_info": {
      "name": "python"
    }
  },
  "cells": [
    {
      "cell_type": "markdown",
      "metadata": {
        "id": "view-in-github",
        "colab_type": "text"
      },
      "source": [
        "<a href=\"https://colab.research.google.com/github/ayush-a-r/NLP-using-nltk-library-/blob/main/Untitled0.ipynb\" target=\"_parent\"><img src=\"https://colab.research.google.com/assets/colab-badge.svg\" alt=\"Open In Colab\"/></a>"
      ]
    },
    {
      "cell_type": "code",
      "execution_count": null,
      "metadata": {
        "id": "54MR7pum9vXm"
      },
      "outputs": [],
      "source": []
    },
    {
      "cell_type": "code",
      "source": [
        "print(\"hello\")"
      ],
      "metadata": {
        "colab": {
          "base_uri": "https://localhost:8080/"
        },
        "id": "APvfpJtT9zJR",
        "outputId": "2304f93c-ecff-4c01-fc6a-c5a548af948c"
      },
      "execution_count": null,
      "outputs": [
        {
          "output_type": "stream",
          "name": "stdout",
          "text": [
            "hello\n"
          ]
        }
      ]
    },
    {
      "cell_type": "code",
      "source": [
        "import re\n",
        "import nltk\n",
        "from nltk.corpus import stopwords\n",
        "from nltk.tokenize import word_tokenize\n",
        "from nltk.stem import WordNetLemmatizer"
      ],
      "metadata": {
        "id": "CAAAhJzIBoos"
      },
      "execution_count": null,
      "outputs": []
    },
    {
      "cell_type": "code",
      "source": [
        "nltk.download('punkt')\n",
        "nltk.download('stopwords')\n",
        "nltk.download('wordnet')\n",
        "nltk.download('punkt_tab')"
      ],
      "metadata": {
        "colab": {
          "base_uri": "https://localhost:8080/"
        },
        "id": "Exo13BEUCEEd",
        "outputId": "040ca4ed-9bea-4b62-8477-b1b17258f75c"
      },
      "execution_count": null,
      "outputs": [
        {
          "output_type": "stream",
          "name": "stderr",
          "text": [
            "[nltk_data] Downloading package punkt to /root/nltk_data...\n",
            "[nltk_data]   Unzipping tokenizers/punkt.zip.\n",
            "[nltk_data] Downloading package stopwords to /root/nltk_data...\n",
            "[nltk_data]   Unzipping corpora/stopwords.zip.\n",
            "[nltk_data] Downloading package wordnet to /root/nltk_data...\n",
            "[nltk_data] Downloading package punkt_tab to /root/nltk_data...\n",
            "[nltk_data]   Unzipping tokenizers/punkt_tab.zip.\n"
          ]
        },
        {
          "output_type": "execute_result",
          "data": {
            "text/plain": [
              "True"
            ]
          },
          "metadata": {},
          "execution_count": 4
        }
      ]
    },
    {
      "cell_type": "code",
      "source": [
        "text=\"This is example sentence, to demonstrate text preprocessing! we'll clean it and tokenize.\"\n",
        "def preprocess_text(text):\n",
        "  text=text.lower()\n",
        "  text=re.sub(r'[^\\w\\s]', '', text)\n",
        "  tokens=word_tokenize(text)\n",
        "  stop_words=set(stopwords.words('english'))\n",
        "  tokens=[word for word in tokens if word not in stop_words]\n",
        "  lemmatizer=WordNetLemmatizer()\n",
        "  tokens=[lemmatizer.lemmatize(word) for word in tokens]\n",
        "  return tokens\n"
      ],
      "metadata": {
        "id": "sOszQxE1CedY"
      },
      "execution_count": null,
      "outputs": []
    },
    {
      "cell_type": "code",
      "source": [
        "cleaned_text=preprocess_text(text)\n",
        "print(cleaned_text)"
      ],
      "metadata": {
        "colab": {
          "base_uri": "https://localhost:8080/"
        },
        "id": "a-1hU-cYJMp-",
        "outputId": "88181111-f2e5-4ae3-9190-bd983c296547"
      },
      "execution_count": null,
      "outputs": [
        {
          "output_type": "stream",
          "name": "stdout",
          "text": [
            "['example', 'sentence', 'demonstrate', 'text', 'preprocessing', 'well', 'clean', 'tokenize']\n"
          ]
        }
      ]
    },
    {
      "cell_type": "code",
      "source": [
        "text2= \"Hi I am Ayush Ranjan\"\n",
        "cleant2=preprocess_text(text2)\n",
        "print(cleant2)"
      ],
      "metadata": {
        "colab": {
          "base_uri": "https://localhost:8080/"
        },
        "id": "UlXi03HwgUpc",
        "outputId": "72a4ec35-6717-4a26-abfc-cb17cd5d4bf3"
      },
      "execution_count": null,
      "outputs": [
        {
          "output_type": "stream",
          "name": "stdout",
          "text": [
            "['hi', 'ayush', 'ranjan']\n"
          ]
        }
      ]
    },
    {
      "cell_type": "code",
      "source": [
        "t3=\"Hi, How are you\"\n",
        "c3=preprocess_text(t3)\n",
        "print(\"Cleaned tokens: \", c3)"
      ],
      "metadata": {
        "colab": {
          "base_uri": "https://localhost:8080/"
        },
        "id": "MXBqVCCFjkeJ",
        "outputId": "5374e274-3cd4-45a9-d8a2-be5ec59d3a41"
      },
      "execution_count": null,
      "outputs": [
        {
          "output_type": "stream",
          "name": "stdout",
          "text": [
            "Cleaned tokens:  ['hi']\n"
          ]
        }
      ]
    }
  ]
}
